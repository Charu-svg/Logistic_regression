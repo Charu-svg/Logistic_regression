{
 "cells": [
  {
   "cell_type": "code",
   "execution_count": 18,
   "id": "85c2a1c2-0981-4145-ad51-26bec7bd3773",
   "metadata": {},
   "outputs": [],
   "source": [
    "import numpy as np\n",
    "import pandas as pd\n",
    "import matplotlib.pyplot as plt\n",
    "import joblib\n",
    "\n",
    "from sklearn.datasets import load_breast_cancer\n",
    "from sklearn.model_selection import train_test_split, cross_val_score\n",
    "from sklearn.preprocessing import StandardScaler\n",
    "from sklearn.linear_model import LogisticRegression\n",
    "from sklearn.metrics import (\n",
    "    confusion_matrix, classification_report,\n",
    "    precision_score, recall_score, f1_score,\n",
    "    roc_auc_score, roc_curve, auc\n",
    ")\n"
   ]
  },
  {
   "cell_type": "code",
   "execution_count": 19,
   "id": "bf38e872-a6fb-4748-9cd6-72323453f1c5",
   "metadata": {},
   "outputs": [
    {
     "name": "stdout",
     "output_type": "stream",
     "text": [
      "Class distribution:\n",
      "1    0.627417\n",
      "0    0.372583\n",
      "Name: proportion, dtype: float64\n"
     ]
    }
   ],
   "source": [
    "data = load_breast_cancer()\n",
    "X = pd.DataFrame(data.data, columns=data.feature_names)\n",
    "y = pd.Series(data.target)\n",
    "\n",
    "# Check class distribution\n",
    "print(\"Class distribution:\")\n",
    "print(y.value_counts(normalize=True))\n"
   ]
  },
  {
   "cell_type": "code",
   "execution_count": 20,
   "id": "4e2e4551-fa62-4797-b810-9e51df870dee",
   "metadata": {},
   "outputs": [],
   "source": [
    "X_train, X_test, y_train, y_test = train_test_split(\n",
    "    X, y, test_size=0.2, random_state=42, stratify=y\n",
    ")\n"
   ]
  },
  {
   "cell_type": "code",
   "execution_count": 21,
   "id": "7fbb9e89-5d4b-42c3-925e-5ed89a18b801",
   "metadata": {},
   "outputs": [],
   "source": [
    "scaler = StandardScaler()\n",
    "X_train_scaled = scaler.fit_transform(X_train)\n",
    "X_test_scaled = scaler.transform(X_test)\n"
   ]
  },
  {
   "cell_type": "code",
   "execution_count": 22,
   "id": "d1d47898-6a1e-4c20-a6fd-fc1772ffbe3f",
   "metadata": {},
   "outputs": [],
   "source": [
    "y_probs = model.predict_proba(X_test_scaled)[:, 1]  # probability of class 1\n",
    "y_pred_default = (y_probs >= 0.5).astype(int)       # default threshold\n"
   ]
  },
  {
   "cell_type": "code",
   "execution_count": 23,
   "id": "73d9f961-1066-4b89-8073-d3b033afe331",
   "metadata": {},
   "outputs": [
    {
     "name": "stdout",
     "output_type": "stream",
     "text": [
      "Confusion Matrix:\n",
      " [[41  1]\n",
      " [ 4 68]]\n",
      "\n",
      "Classification Report:\n",
      "               precision    recall  f1-score   support\n",
      "\n",
      "   malignant       0.91      0.98      0.94        42\n",
      "      benign       0.99      0.94      0.96        72\n",
      "\n",
      "    accuracy                           0.96       114\n",
      "   macro avg       0.95      0.96      0.95       114\n",
      "weighted avg       0.96      0.96      0.96       114\n",
      "\n",
      "Precision: 0.9855\n",
      "Recall:    0.9444\n",
      "F1-score:  0.9645\n",
      "ROC-AUC:   0.9954\n"
     ]
    }
   ],
   "source": [
    "cm = confusion_matrix(y_test, y_pred_default)\n",
    "report = classification_report(y_test, y_pred_default, target_names=data.target_names)\n",
    "precision = precision_score(y_test, y_pred_default)\n",
    "recall = recall_score(y_test, y_pred_default)\n",
    "f1 = f1_score(y_test, y_pred_default)\n",
    "roc_auc = roc_auc_score(y_test, y_probs)\n",
    "\n",
    "print(\"Confusion Matrix:\\n\", cm)\n",
    "print(\"\\nClassification Report:\\n\", report)\n",
    "print(f\"Precision: {precision:.4f}\")\n",
    "print(f\"Recall:    {recall:.4f}\")\n",
    "print(f\"F1-score:  {f1:.4f}\")\n",
    "print(f\"ROC-AUC:   {roc_auc:.4f}\")\n"
   ]
  },
  {
   "cell_type": "code",
   "execution_count": 24,
   "id": "92ad29b1-1f80-436a-8532-f5be2d08185f",
   "metadata": {},
   "outputs": [
    {
     "name": "stdout",
     "output_type": "stream",
     "text": [
      "                    Feature  Coefficient\n",
      "5          mean compactness     0.769105\n",
      "15        compactness error     0.649334\n",
      "19  fractal dimension error     0.438216\n",
      "18           symmetry error     0.379983\n",
      "11            texture error     0.207438\n",
      "16          concavity error     0.206166\n",
      "9    mean fractal dimension     0.149544\n",
      "25        worst compactness     0.040116\n",
      "14         smoothness error    -0.131586\n",
      "8             mean symmetry    -0.162178\n",
      "29  worst fractal dimension    -0.194797\n",
      "4           mean smoothness    -0.232756\n",
      "2            mean perimeter    -0.428180\n",
      "0               mean radius    -0.465056\n",
      "3                 mean area    -0.503455\n",
      "1              mean texture    -0.503857\n",
      "12          perimeter error    -0.507115\n",
      "17     concave points error    -0.509657\n",
      "6            mean concavity    -0.566520\n",
      "24         worst smoothness    -0.666270\n",
      "7       mean concave points    -0.713909\n",
      "22          worst perimeter    -0.735741\n",
      "26          worst concavity    -0.838387\n",
      "28           worst symmetry    -0.932111\n",
      "20             worst radius    -0.956245\n",
      "13               area error    -0.958781\n",
      "23               worst area    -0.961932\n",
      "27     worst concave points    -0.995581\n",
      "10             radius error    -1.155929\n",
      "21            worst texture    -1.283663\n"
     ]
    }
   ],
   "source": [
    "coef_df = pd.DataFrame({\n",
    "    'Feature': data.feature_names,\n",
    "    'Coefficient': model.coef_[0]\n",
    "}).sort_values(by='Coefficient', ascending=False)\n",
    "\n",
    "print(coef_df)\n"
   ]
  },
  {
   "cell_type": "code",
   "execution_count": 25,
   "id": "69d51b6b-bc27-4b6c-94d1-22bbd55b3026",
   "metadata": {},
   "outputs": [
    {
     "data": {
      "image/png": "[encoded data removed]",
      "text/plain": [
       "<Figure size 500x400 with 2 Axes>"
      ]
     },
     "metadata": {},
     "output_type": "display_data"
    }
   ],
   "source": [
    "plt.figure(figsize=(5,4))\n",
    "plt.imshow(cm, interpolation='nearest', cmap=plt.cm.Blues)\n",
    "plt.title('Confusion Matrix')\n",
    "plt.colorbar()\n",
    "classes = data.target_names\n",
    "plt.xticks([0,1], classes)\n",
    "plt.yticks([0,1], classes)\n",
    "plt.xlabel('Predicted')\n",
    "plt.ylabel('True')\n",
    "\n",
    "for i in range(cm.shape[0]):\n",
    "    for j in range(cm.shape[1]):\n",
    "        plt.text(j, i, cm[i, j], ha='center',\n",
    "                 color='white' if cm[i, j] > cm.max()/2 else 'black')\n",
    "plt.tight_layout()\n",
    "plt.show()\n"
   ]
  },
  {
   "cell_type": "code",
   "execution_count": 26,
   "id": "4cf7f9ff-dce3-4ff2-8191-a5029876a5d9",
   "metadata": {},
   "outputs": [
    {
     "data": {
      "image/png": "[encoded data removed]",
      "text/plain": [
       "<Figure size 600x500 with 1 Axes>"
      ]
     },
     "metadata": {},
     "output_type": "display_data"
    }
   ],
   "source": [
    "fpr, tpr, thresholds = roc_curve(y_test, y_probs)\n",
    "roc_auc_val = auc(fpr, tpr)\n",
    "\n",
    "plt.figure(figsize=(6,5))\n",
    "plt.plot(fpr, tpr, lw=2, label=f'ROC curve (AUC = {roc_auc_val:.4f})')\n",
    "plt.plot([0,1], [0,1], linestyle='--', lw=1)\n",
    "plt.xlabel('False Positive Rate')\n",
    "plt.ylabel('True Positive Rate (Recall)')\n",
    "plt.title('ROC Curve')\n",
    "plt.legend(loc='lower right')\n",
    "plt.grid(True)\n",
    "plt.tight_layout()\n",
    "plt.show()\n"
   ]
  },
  {
   "cell_type": "code",
   "execution_count": 27,
   "id": "a5521eb1-8de2-4b41-a58b-55252c31183d",
   "metadata": {},
   "outputs": [
    {
     "name": "stdout",
     "output_type": "stream",
     "text": [
      "Model and scaler saved successfully!\n"
     ]
    }
   ],
   "source": [
    "joblib.dump(model, 'logistic_model.pkl')\n",
    "joblib.dump(scaler, 'scaler.pkl')\n",
    "print(\"Model and scaler saved successfully!\")\n"
   ]
  },
  {
   "cell_type": "code",
   "execution_count": 28,
   "id": "46c76c2c-2189-462d-8f01-35752b4ccb7a",
   "metadata": {},
   "outputs": [
    {
     "name": "stdout",
     "output_type": "stream",
     "text": [
      "Model and scaler loaded successfully!\n"
     ]
    }
   ],
   "source": [
    "model = joblib.load('logistic_model.pkl')\n",
    "scaler = joblib.load('scaler.pkl')\n",
    "print(\"Model and scaler loaded successfully!\")\n"
   ]
  },
  {
   "cell_type": "code",
   "execution_count": 29,
   "id": "a4250d4a-e346-43fb-987a-cbfcfd8fd6aa",
   "metadata": {},
   "outputs": [
    {
     "name": "stdout",
     "output_type": "stream",
     "text": [
      "Predicted class: 0\n",
      "Predicted probability of class 1 (benign): 0.0259938627267517\n"
     ]
    },
    {
     "name": "stderr",
     "output_type": "stream",
     "text": [
      "C:\\Users\\Charumathi\\AppData\\Local\\Packages\\PythonSoftwareFoundation.Python.3.11_qbz5n2kfra8p0\\LocalCache\\local-packages\\Python311\\site-packages\\sklearn\\utils\\validation.py:2749: UserWarning: X does not have valid feature names, but StandardScaler was fitted with feature names\n",
      "  warnings.warn(\n"
     ]
    }
   ],
   "source": [
    "# Example: new sample (replace with actual values)\n",
    "new_data = [[14.0, 20.0, 90.0, 600.0, 0.1, 0.2, 0.3, 0.15, 0.2, 0.07,\n",
    "             0.3, 1.2, 2.0, 25.0, 0.005, 0.03, 0.03, 0.02, 0.02, 0.004,\n",
    "             16.0, 25.0, 100.0, 700.0, 0.15, 0.5, 0.5, 0.2, 0.3, 0.08]]\n",
    "\n",
    "# Scale the new data using the loaded scaler\n",
    "new_data_scaled = scaler.transform(new_data)\n",
    "\n",
    "# Predict class\n",
    "prediction = model.predict(new_data_scaled)\n",
    "prediction_prob = model.predict_proba(new_data_scaled)[:, 1]\n",
    "\n",
    "print(\"Predicted class:\", prediction[0])\n",
    "print(\"Predicted probability of class 1 (benign):\", prediction_prob[0])\n"
   ]
  },
  {
   "cell_type": "code",
   "execution_count": null,
   "id": "124cc8c8-b1fa-4d50-918d-01285ca54c99",
   "metadata": {},
   "outputs": [],
   "source": []
  }
 ],
 "metadata": {
  "kernelspec": {
   "display_name": "Python 3 (ipykernel)",
   "language": "python",
   "name": "python3"
  },
  "language_info": {
   "codemirror_mode": {
    "name": "ipython",
    "version": 3
   },
   "file_extension": ".py",
   "mimetype": "text/x-python",
   "name": "python",
   "nbconvert_exporter": "python",
   "pygments_lexer": "ipython3",
   "version": "3.11.9"
  }
 },
 "nbformat": 4,
 "nbformat_minor": 5
}
